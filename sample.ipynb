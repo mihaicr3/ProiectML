{
 "cells": [
  {
   "cell_type": "code",
   "outputs": [],
   "source": [
    "import pandas as pd\n",
    "import seaborn as sns\n",
    "import numpy as np\n",
    "from scipy.stats import entropy as en\n",
    "from math import log,e\n",
    "from IPython.display import Image\n",
    "from IPython.core.display import HTML\n",
    "\n",
    "%matplotlib inline"
   ],
   "metadata": {
    "collapsed": false,
    "ExecuteTime": {
     "end_time": "2024-05-03T18:45:08.426527Z",
     "start_time": "2024-05-03T18:45:08.266267Z"
    }
   },
   "id": "d44109955a9b036b",
   "execution_count": 2
  },
  {
   "cell_type": "markdown",
   "source": [
    "\n",
    "# Setul de date initial"
   ],
   "metadata": {
    "collapsed": false
   },
   "id": "ca27d205f7070e00"
  },
  {
   "cell_type": "code",
   "outputs": [
    {
     "data": {
      "text/plain": "            date                time username  wrist  activity  \\\n0      2017-6-30  13:51:15:847724020   viktor      0         0   \n1      2017-6-30  13:51:16:246945023   viktor      0         0   \n2      2017-6-30  13:51:16:446233987   viktor      0         0   \n3      2017-6-30  13:51:16:646117985   viktor      0         0   \n4      2017-6-30  13:51:16:846738994   viktor      0         0   \n...          ...                 ...      ...    ...       ...   \n88583   2017-7-9   20:9:15:317911028   viktor      0         0   \n88584   2017-7-9   20:9:15:517889022   viktor      0         0   \n88585   2017-7-9   20:9:15:717828989   viktor      0         0   \n88586   2017-7-9   20:9:15:917932987   viktor      0         0   \n88587   2017-7-9   20:9:16:117410004   viktor      0         0   \n\n       acceleration_x  acceleration_y  acceleration_z  gyro_x  gyro_y  gyro_z  \n0              0.2650         -0.7814         -0.0076 -0.0590  0.0325 -2.9296  \n1              0.6722         -1.1233         -0.2344 -0.1757  0.0208  0.1269  \n2              0.4399         -1.4817          0.0722 -0.9105  0.1063 -2.4367  \n3              0.3031         -0.8125          0.0888  0.1199 -0.4099 -2.9336  \n4              0.4814         -0.9312          0.0359  0.0527  0.4379  2.4922  \n...               ...             ...             ...     ...     ...     ...  \n88583          0.3084         -0.8376         -0.1327  0.4823  2.0124  0.6048  \n88584          0.4977         -1.0027         -0.4397  0.1022 -1.2565 -0.0761  \n88585          0.4587         -1.1780         -0.2827 -1.4500 -0.2792 -1.2616  \n88586          0.2590         -0.8582         -0.0759 -1.5165  0.4560 -1.7755  \n88587          0.3140         -0.8008         -0.0911  0.1183  1.0850  1.2814  \n\n[88588 rows x 11 columns]",
      "text/html": "<div>\n<style scoped>\n    .dataframe tbody tr th:only-of-type {\n        vertical-align: middle;\n    }\n\n    .dataframe tbody tr th {\n        vertical-align: top;\n    }\n\n    .dataframe thead th {\n        text-align: right;\n    }\n</style>\n<table border=\"1\" class=\"dataframe\">\n  <thead>\n    <tr style=\"text-align: right;\">\n      <th></th>\n      <th>date</th>\n      <th>time</th>\n      <th>username</th>\n      <th>wrist</th>\n      <th>activity</th>\n      <th>acceleration_x</th>\n      <th>acceleration_y</th>\n      <th>acceleration_z</th>\n      <th>gyro_x</th>\n      <th>gyro_y</th>\n      <th>gyro_z</th>\n    </tr>\n  </thead>\n  <tbody>\n    <tr>\n      <th>0</th>\n      <td>2017-6-30</td>\n      <td>13:51:15:847724020</td>\n      <td>viktor</td>\n      <td>0</td>\n      <td>0</td>\n      <td>0.2650</td>\n      <td>-0.7814</td>\n      <td>-0.0076</td>\n      <td>-0.0590</td>\n      <td>0.0325</td>\n      <td>-2.9296</td>\n    </tr>\n    <tr>\n      <th>1</th>\n      <td>2017-6-30</td>\n      <td>13:51:16:246945023</td>\n      <td>viktor</td>\n      <td>0</td>\n      <td>0</td>\n      <td>0.6722</td>\n      <td>-1.1233</td>\n      <td>-0.2344</td>\n      <td>-0.1757</td>\n      <td>0.0208</td>\n      <td>0.1269</td>\n    </tr>\n    <tr>\n      <th>2</th>\n      <td>2017-6-30</td>\n      <td>13:51:16:446233987</td>\n      <td>viktor</td>\n      <td>0</td>\n      <td>0</td>\n      <td>0.4399</td>\n      <td>-1.4817</td>\n      <td>0.0722</td>\n      <td>-0.9105</td>\n      <td>0.1063</td>\n      <td>-2.4367</td>\n    </tr>\n    <tr>\n      <th>3</th>\n      <td>2017-6-30</td>\n      <td>13:51:16:646117985</td>\n      <td>viktor</td>\n      <td>0</td>\n      <td>0</td>\n      <td>0.3031</td>\n      <td>-0.8125</td>\n      <td>0.0888</td>\n      <td>0.1199</td>\n      <td>-0.4099</td>\n      <td>-2.9336</td>\n    </tr>\n    <tr>\n      <th>4</th>\n      <td>2017-6-30</td>\n      <td>13:51:16:846738994</td>\n      <td>viktor</td>\n      <td>0</td>\n      <td>0</td>\n      <td>0.4814</td>\n      <td>-0.9312</td>\n      <td>0.0359</td>\n      <td>0.0527</td>\n      <td>0.4379</td>\n      <td>2.4922</td>\n    </tr>\n    <tr>\n      <th>...</th>\n      <td>...</td>\n      <td>...</td>\n      <td>...</td>\n      <td>...</td>\n      <td>...</td>\n      <td>...</td>\n      <td>...</td>\n      <td>...</td>\n      <td>...</td>\n      <td>...</td>\n      <td>...</td>\n    </tr>\n    <tr>\n      <th>88583</th>\n      <td>2017-7-9</td>\n      <td>20:9:15:317911028</td>\n      <td>viktor</td>\n      <td>0</td>\n      <td>0</td>\n      <td>0.3084</td>\n      <td>-0.8376</td>\n      <td>-0.1327</td>\n      <td>0.4823</td>\n      <td>2.0124</td>\n      <td>0.6048</td>\n    </tr>\n    <tr>\n      <th>88584</th>\n      <td>2017-7-9</td>\n      <td>20:9:15:517889022</td>\n      <td>viktor</td>\n      <td>0</td>\n      <td>0</td>\n      <td>0.4977</td>\n      <td>-1.0027</td>\n      <td>-0.4397</td>\n      <td>0.1022</td>\n      <td>-1.2565</td>\n      <td>-0.0761</td>\n    </tr>\n    <tr>\n      <th>88585</th>\n      <td>2017-7-9</td>\n      <td>20:9:15:717828989</td>\n      <td>viktor</td>\n      <td>0</td>\n      <td>0</td>\n      <td>0.4587</td>\n      <td>-1.1780</td>\n      <td>-0.2827</td>\n      <td>-1.4500</td>\n      <td>-0.2792</td>\n      <td>-1.2616</td>\n    </tr>\n    <tr>\n      <th>88586</th>\n      <td>2017-7-9</td>\n      <td>20:9:15:917932987</td>\n      <td>viktor</td>\n      <td>0</td>\n      <td>0</td>\n      <td>0.2590</td>\n      <td>-0.8582</td>\n      <td>-0.0759</td>\n      <td>-1.5165</td>\n      <td>0.4560</td>\n      <td>-1.7755</td>\n    </tr>\n    <tr>\n      <th>88587</th>\n      <td>2017-7-9</td>\n      <td>20:9:16:117410004</td>\n      <td>viktor</td>\n      <td>0</td>\n      <td>0</td>\n      <td>0.3140</td>\n      <td>-0.8008</td>\n      <td>-0.0911</td>\n      <td>0.1183</td>\n      <td>1.0850</td>\n      <td>1.2814</td>\n    </tr>\n  </tbody>\n</table>\n<p>88588 rows × 11 columns</p>\n</div>"
     },
     "execution_count": 3,
     "metadata": {},
     "output_type": "execute_result"
    }
   ],
   "source": [
    "df= pd.read_csv(r\"C:\\Users\\student\\DataspellProjects\\Running\\datasetInitial.csv\")\n",
    "df"
   ],
   "metadata": {
    "collapsed": false,
    "ExecuteTime": {
     "end_time": "2024-05-03T18:45:08.759975Z",
     "start_time": "2024-05-03T18:45:08.434909Z"
    }
   },
   "id": "b7ea6d831b74a4c6",
   "execution_count": 3
  },
  {
   "cell_type": "markdown",
   "source": [
    "Setul de date este preluat de pe Kaggle : https://www.kaggle.com/datasets/vmalyi/run-or-walk/data\n",
    "\n",
    "Datele au fost înregistrate de către Viktor Malyi pe un telefon mobil de tipul \"iPhone 5c\" prin o aplicație dezvoltată în mod special pentru a servi la colectarea datelor.\n",
    "\n",
    "În setul de date se observă prezența a 11 coloane :\n",
    "    Coloanele \"date\" și \"time\"  aduc referința momentului în care datele au fost înregistrate.\n",
    "    Coloana \"username\" prezintă utilizatorul care a înregistrat datele.\n",
    "    Coloana \"wrist\" indică încheietura mâinii pe care era atasat device-ul în momentul înregistrării datelor( 0 : stânga, 1 : dreapta)\n",
    "    Coloana \"activity\" indică dacă datele au fost înregistrate în timpul alergării sau al mersului  ( 0 : mers, 1 : alergat)\n",
    "    Coloanele \"acceleration_x\", \"acceleration_y\", \"acceleration_z\" ce reprezintă schimbarea accelerometrului în cele 3 direcții.\n",
    " \n",
    "Datele sunt distribuite uniform, majoritatea aflându-se în limitele normale iar cele care sunt aflate în extreme nu pot fi considerate eronate din cauza modului de colectare a datelor."
   ],
   "metadata": {
    "collapsed": false
   },
   "id": "4e3ebb159d45fb71"
  },
  {
   "cell_type": "markdown",
   "source": [
    "## Date neimportante\n",
    "\n",
    "Coloanele \"username\", \"date\" și \"time\" nu sunt necesare acestei aplicații, astfel nu vor fi considerate în antrenarea modelelor."
   ],
   "metadata": {
    "collapsed": false
   },
   "id": "8b6d651b924a9104"
  },
  {
   "cell_type": "code",
   "outputs": [
    {
     "data": {
      "text/plain": "<pandas.io.formats.style.Styler at 0x27845d8bdd0>",
      "text/html": "<style type=\"text/css\">\n#T_6b38d th {\n  font-size: 7pt;\n}\n#T_6b38d td {\n  padding: 0em 0em;\n}\n#T_6b38d th:hover {\n  font-size: 12pt;\n}\n#T_6b38d tr:hover td:hover {\n  max-width: 200px;\n  font-size: 12pt;\n}\n#T_6b38d_row0_col0, #T_6b38d_row1_col1, #T_6b38d_row2_col2, #T_6b38d_row3_col3, #T_6b38d_row4_col4, #T_6b38d_row5_col5, #T_6b38d_row6_col6, #T_6b38d_row7_col7 {\n  background-color: #d73c5b;\n  color: #f1f1f1;\n  max-width: 120px;\n  font-size: 10pt;\n}\n#T_6b38d_row0_col1 {\n  background-color: #bdc6a3;\n  color: #000000;\n  max-width: 120px;\n  font-size: 10pt;\n}\n#T_6b38d_row0_col2, #T_6b38d_row1_col4, #T_6b38d_row2_col0, #T_6b38d_row3_col2, #T_6b38d_row4_col2, #T_6b38d_row5_col0, #T_6b38d_row5_col2, #T_6b38d_row6_col0, #T_6b38d_row7_col2 {\n  background-color: #6d7e39;\n  color: #f1f1f1;\n  max-width: 120px;\n  font-size: 10pt;\n}\n#T_6b38d_row0_col3 {\n  background-color: #dde3ce;\n  color: #000000;\n  max-width: 120px;\n  font-size: 10pt;\n}\n#T_6b38d_row0_col4 {\n  background-color: #eed4d9;\n  color: #000000;\n  max-width: 120px;\n  font-size: 10pt;\n}\n#T_6b38d_row0_col5, #T_6b38d_row2_col5 {\n  background-color: #ccd4b7;\n  color: #000000;\n  max-width: 120px;\n  font-size: 10pt;\n}\n#T_6b38d_row0_col6 {\n  background-color: #c5cdae;\n  color: #000000;\n  max-width: 120px;\n  font-size: 10pt;\n}\n#T_6b38d_row0_col7 {\n  background-color: #d1d8be;\n  color: #000000;\n  max-width: 120px;\n  font-size: 10pt;\n}\n#T_6b38d_row1_col0, #T_6b38d_row7_col0 {\n  background-color: #7d8d4e;\n  color: #f1f1f1;\n  max-width: 120px;\n  font-size: 10pt;\n}\n#T_6b38d_row1_col2 {\n  background-color: #93a06b;\n  color: #f1f1f1;\n  max-width: 120px;\n  font-size: 10pt;\n}\n#T_6b38d_row1_col3 {\n  background-color: #e8aab6;\n  color: #000000;\n  max-width: 120px;\n  font-size: 10pt;\n}\n#T_6b38d_row1_col5 {\n  background-color: #a0ac7c;\n  color: #f1f1f1;\n  max-width: 120px;\n  font-size: 10pt;\n}\n#T_6b38d_row1_col6 {\n  background-color: #99a573;\n  color: #f1f1f1;\n  max-width: 120px;\n  font-size: 10pt;\n}\n#T_6b38d_row1_col7 {\n  background-color: #95a26d;\n  color: #f1f1f1;\n  max-width: 120px;\n  font-size: 10pt;\n}\n#T_6b38d_row2_col1 {\n  background-color: #cdd5b9;\n  color: #000000;\n  max-width: 120px;\n  font-size: 10pt;\n}\n#T_6b38d_row2_col3 {\n  background-color: #a4af82;\n  color: #f1f1f1;\n  max-width: 120px;\n  font-size: 10pt;\n}\n#T_6b38d_row2_col4, #T_6b38d_row7_col3 {\n  background-color: #768645;\n  color: #f1f1f1;\n  max-width: 120px;\n  font-size: 10pt;\n}\n#T_6b38d_row2_col6, #T_6b38d_row4_col5 {\n  background-color: #cfd6bb;\n  color: #000000;\n  max-width: 120px;\n  font-size: 10pt;\n}\n#T_6b38d_row2_col7, #T_6b38d_row4_col6 {\n  background-color: #c6ceaf;\n  color: #000000;\n  max-width: 120px;\n  font-size: 10pt;\n}\n#T_6b38d_row3_col0 {\n  background-color: #b6c099;\n  color: #000000;\n  max-width: 120px;\n  font-size: 10pt;\n}\n#T_6b38d_row3_col1 {\n  background-color: #e7a3b0;\n  color: #000000;\n  max-width: 120px;\n  font-size: 10pt;\n}\n#T_6b38d_row3_col4 {\n  background-color: #bac39f;\n  color: #000000;\n  max-width: 120px;\n  font-size: 10pt;\n}\n#T_6b38d_row3_col5 {\n  background-color: #a5b083;\n  color: #000000;\n  max-width: 120px;\n  font-size: 10pt;\n}\n#T_6b38d_row3_col6 {\n  background-color: #b3bd95;\n  color: #000000;\n  max-width: 120px;\n  font-size: 10pt;\n}\n#T_6b38d_row3_col7 {\n  background-color: #9fab7b;\n  color: #f1f1f1;\n  max-width: 120px;\n  font-size: 10pt;\n}\n#T_6b38d_row4_col0 {\n  background-color: #efdade;\n  color: #000000;\n  max-width: 120px;\n  font-size: 10pt;\n}\n#T_6b38d_row4_col1 {\n  background-color: #a9b489;\n  color: #000000;\n  max-width: 120px;\n  font-size: 10pt;\n}\n#T_6b38d_row4_col3 {\n  background-color: #dbe1cc;\n  color: #000000;\n  max-width: 120px;\n  font-size: 10pt;\n}\n#T_6b38d_row4_col7 {\n  background-color: #d2d9bf;\n  color: #000000;\n  max-width: 120px;\n  font-size: 10pt;\n}\n#T_6b38d_row5_col1, #T_6b38d_row6_col2 {\n  background-color: #7c8c4d;\n  color: #f1f1f1;\n  max-width: 120px;\n  font-size: 10pt;\n}\n#T_6b38d_row5_col3 {\n  background-color: #758543;\n  color: #f1f1f1;\n  max-width: 120px;\n  font-size: 10pt;\n}\n#T_6b38d_row5_col4 {\n  background-color: #7b8b4c;\n  color: #f1f1f1;\n  max-width: 120px;\n  font-size: 10pt;\n}\n#T_6b38d_row5_col6 {\n  background-color: #8a9860;\n  color: #f1f1f1;\n  max-width: 120px;\n  font-size: 10pt;\n}\n#T_6b38d_row5_col7, #T_6b38d_row6_col7 {\n  background-color: #c4ccac;\n  color: #000000;\n  max-width: 120px;\n  font-size: 10pt;\n}\n#T_6b38d_row6_col1 {\n  background-color: #808f52;\n  color: #f1f1f1;\n  max-width: 120px;\n  font-size: 10pt;\n}\n#T_6b38d_row6_col3 {\n  background-color: #8e9c65;\n  color: #f1f1f1;\n  max-width: 120px;\n  font-size: 10pt;\n}\n#T_6b38d_row6_col4 {\n  background-color: #788848;\n  color: #f1f1f1;\n  max-width: 120px;\n  font-size: 10pt;\n}\n#T_6b38d_row6_col5 {\n  background-color: #94a16c;\n  color: #f1f1f1;\n  max-width: 120px;\n  font-size: 10pt;\n}\n#T_6b38d_row7_col1 {\n  background-color: #798949;\n  color: #f1f1f1;\n  max-width: 120px;\n  font-size: 10pt;\n}\n#T_6b38d_row7_col4 {\n  background-color: #87965c;\n  color: #f1f1f1;\n  max-width: 120px;\n  font-size: 10pt;\n}\n#T_6b38d_row7_col5 {\n  background-color: #cad2b5;\n  color: #000000;\n  max-width: 120px;\n  font-size: 10pt;\n}\n#T_6b38d_row7_col6 {\n  background-color: #c3cbab;\n  color: #000000;\n  max-width: 120px;\n  font-size: 10pt;\n}\n</style>\n<table id=\"T_6b38d\">\n  <caption>Hover to magify</caption>\n  <thead>\n    <tr>\n      <th class=\"blank level0\" >&nbsp;</th>\n      <th id=\"T_6b38d_level0_col0\" class=\"col_heading level0 col0\" >wrist</th>\n      <th id=\"T_6b38d_level0_col1\" class=\"col_heading level0 col1\" >activity</th>\n      <th id=\"T_6b38d_level0_col2\" class=\"col_heading level0 col2\" >acceleration_x</th>\n      <th id=\"T_6b38d_level0_col3\" class=\"col_heading level0 col3\" >acceleration_y</th>\n      <th id=\"T_6b38d_level0_col4\" class=\"col_heading level0 col4\" >acceleration_z</th>\n      <th id=\"T_6b38d_level0_col5\" class=\"col_heading level0 col5\" >gyro_x</th>\n      <th id=\"T_6b38d_level0_col6\" class=\"col_heading level0 col6\" >gyro_y</th>\n      <th id=\"T_6b38d_level0_col7\" class=\"col_heading level0 col7\" >gyro_z</th>\n    </tr>\n  </thead>\n  <tbody>\n    <tr>\n      <th id=\"T_6b38d_level0_row0\" class=\"row_heading level0 row0\" >wrist</th>\n      <td id=\"T_6b38d_row0_col0\" class=\"data row0 col0\" >1.000</td>\n      <td id=\"T_6b38d_row0_col1\" class=\"data row0 col1\" >-0.113</td>\n      <td id=\"T_6b38d_row0_col2\" class=\"data row0 col2\" >-0.610</td>\n      <td id=\"T_6b38d_row0_col3\" class=\"data row0 col3\" >0.087</td>\n      <td id=\"T_6b38d_row0_col4\" class=\"data row0 col4\" >0.324</td>\n      <td id=\"T_6b38d_row0_col5\" class=\"data row0 col5\" >-0.022</td>\n      <td id=\"T_6b38d_row0_col6\" class=\"data row0 col6\" >-0.068</td>\n      <td id=\"T_6b38d_row0_col7\" class=\"data row0 col7\" >0.009</td>\n    </tr>\n    <tr>\n      <th id=\"T_6b38d_level0_row1\" class=\"row_heading level0 row1\" >activity</th>\n      <td id=\"T_6b38d_row1_col0\" class=\"data row1 col0\" >-0.113</td>\n      <td id=\"T_6b38d_row1_col1\" class=\"data row1 col1\" >1.000</td>\n      <td id=\"T_6b38d_row1_col2\" class=\"data row1 col2\" >-0.018</td>\n      <td id=\"T_6b38d_row1_col3\" class=\"data row1 col3\" >0.640</td>\n      <td id=\"T_6b38d_row1_col4\" class=\"data row1 col4\" >-0.192</td>\n      <td id=\"T_6b38d_row1_col5\" class=\"data row1 col5\" >0.041</td>\n      <td id=\"T_6b38d_row1_col6\" class=\"data row1 col6\" >0.012</td>\n      <td id=\"T_6b38d_row1_col7\" class=\"data row1 col7\" >-0.008</td>\n    </tr>\n    <tr>\n      <th id=\"T_6b38d_level0_row2\" class=\"row_heading level0 row2\" >acceleration_x</th>\n      <td id=\"T_6b38d_row2_col0\" class=\"data row2 col0\" >-0.610</td>\n      <td id=\"T_6b38d_row2_col1\" class=\"data row2 col1\" >-0.018</td>\n      <td id=\"T_6b38d_row2_col2\" class=\"data row2 col2\" >1.000</td>\n      <td id=\"T_6b38d_row2_col3\" class=\"data row2 col3\" >-0.265</td>\n      <td id=\"T_6b38d_row2_col4\" class=\"data row2 col4\" >-0.552</td>\n      <td id=\"T_6b38d_row2_col5\" class=\"data row2 col5\" >-0.022</td>\n      <td id=\"T_6b38d_row2_col6\" class=\"data row2 col6\" >-0.004</td>\n      <td id=\"T_6b38d_row2_col7\" class=\"data row2 col7\" >-0.061</td>\n    </tr>\n    <tr>\n      <th id=\"T_6b38d_level0_row3\" class=\"row_heading level0 row3\" >acceleration_y</th>\n      <td id=\"T_6b38d_row3_col0\" class=\"data row3 col0\" >0.087</td>\n      <td id=\"T_6b38d_row3_col1\" class=\"data row3 col1\" >0.640</td>\n      <td id=\"T_6b38d_row3_col2\" class=\"data row3 col2\" >-0.265</td>\n      <td id=\"T_6b38d_row3_col3\" class=\"data row3 col3\" >1.000</td>\n      <td id=\"T_6b38d_row3_col4\" class=\"data row3 col4\" >0.106</td>\n      <td id=\"T_6b38d_row3_col5\" class=\"data row3 col5\" >0.011</td>\n      <td id=\"T_6b38d_row3_col6\" class=\"data row3 col6\" >0.072</td>\n      <td id=\"T_6b38d_row3_col7\" class=\"data row3 col7\" >-0.023</td>\n    </tr>\n    <tr>\n      <th id=\"T_6b38d_level0_row4\" class=\"row_heading level0 row4\" >acceleration_z</th>\n      <td id=\"T_6b38d_row4_col0\" class=\"data row4 col0\" >0.324</td>\n      <td id=\"T_6b38d_row4_col1\" class=\"data row4 col1\" >-0.192</td>\n      <td id=\"T_6b38d_row4_col2\" class=\"data row4 col2\" >-0.552</td>\n      <td id=\"T_6b38d_row4_col3\" class=\"data row4 col3\" >0.106</td>\n      <td id=\"T_6b38d_row4_col4\" class=\"data row4 col4\" >1.000</td>\n      <td id=\"T_6b38d_row4_col5\" class=\"data row4 col5\" >0.035</td>\n      <td id=\"T_6b38d_row4_col6\" class=\"data row4 col6\" >-0.021</td>\n      <td id=\"T_6b38d_row4_col7\" class=\"data row4 col7\" >0.050</td>\n    </tr>\n    <tr>\n      <th id=\"T_6b38d_level0_row5\" class=\"row_heading level0 row5\" >gyro_x</th>\n      <td id=\"T_6b38d_row5_col0\" class=\"data row5 col0\" >-0.022</td>\n      <td id=\"T_6b38d_row5_col1\" class=\"data row5 col1\" >0.041</td>\n      <td id=\"T_6b38d_row5_col2\" class=\"data row5 col2\" >-0.022</td>\n      <td id=\"T_6b38d_row5_col3\" class=\"data row5 col3\" >0.011</td>\n      <td id=\"T_6b38d_row5_col4\" class=\"data row5 col4\" >0.035</td>\n      <td id=\"T_6b38d_row5_col5\" class=\"data row5 col5\" >1.000</td>\n      <td id=\"T_6b38d_row5_col6\" class=\"data row5 col6\" >0.094</td>\n      <td id=\"T_6b38d_row5_col7\" class=\"data row5 col7\" >0.318</td>\n    </tr>\n    <tr>\n      <th id=\"T_6b38d_level0_row6\" class=\"row_heading level0 row6\" >gyro_y</th>\n      <td id=\"T_6b38d_row6_col0\" class=\"data row6 col0\" >-0.068</td>\n      <td id=\"T_6b38d_row6_col1\" class=\"data row6 col1\" >0.012</td>\n      <td id=\"T_6b38d_row6_col2\" class=\"data row6 col2\" >-0.004</td>\n      <td id=\"T_6b38d_row6_col3\" class=\"data row6 col3\" >0.072</td>\n      <td id=\"T_6b38d_row6_col4\" class=\"data row6 col4\" >-0.021</td>\n      <td id=\"T_6b38d_row6_col5\" class=\"data row6 col5\" >0.094</td>\n      <td id=\"T_6b38d_row6_col6\" class=\"data row6 col6\" >1.000</td>\n      <td id=\"T_6b38d_row6_col7\" class=\"data row6 col7\" >0.287</td>\n    </tr>\n    <tr>\n      <th id=\"T_6b38d_level0_row7\" class=\"row_heading level0 row7\" >gyro_z</th>\n      <td id=\"T_6b38d_row7_col0\" class=\"data row7 col0\" >0.009</td>\n      <td id=\"T_6b38d_row7_col1\" class=\"data row7 col1\" >-0.008</td>\n      <td id=\"T_6b38d_row7_col2\" class=\"data row7 col2\" >-0.061</td>\n      <td id=\"T_6b38d_row7_col3\" class=\"data row7 col3\" >-0.023</td>\n      <td id=\"T_6b38d_row7_col4\" class=\"data row7 col4\" >0.050</td>\n      <td id=\"T_6b38d_row7_col5\" class=\"data row7 col5\" >0.318</td>\n      <td id=\"T_6b38d_row7_col6\" class=\"data row7 col6\" >0.287</td>\n      <td id=\"T_6b38d_row7_col7\" class=\"data row7 col7\" >1.000</td>\n    </tr>\n  </tbody>\n</table>\n"
     },
     "execution_count": 4,
     "metadata": {},
     "output_type": "execute_result"
    }
   ],
   "source": [
    "# df.corr(numeric_only=True)\n",
    "corr= df.select_dtypes('number').corr()\n",
    "\n",
    "\n",
    "\n",
    "cmap = sns.diverging_palette(100, 5, as_cmap=True)\n",
    "\n",
    "def magnify():\n",
    "    return [dict(selector=\"th\",\n",
    "                 props=[(\"font-size\", \"7pt\")]),\n",
    "            dict(selector=\"td\",\n",
    "                 props=[('padding', \"0em 0em\")]),\n",
    "            dict(selector=\"th:hover\",\n",
    "                 props=[(\"font-size\", \"12pt\")]),\n",
    "            dict(selector=\"tr:hover td:hover\",\n",
    "                 props=[('max-width', '200px'),\n",
    "                        ('font-size', '12pt')])\n",
    "            ]\n",
    "\n",
    "corr.style.background_gradient(cmap, axis=1) \\\n",
    "    .format(precision=3) \\\n",
    "    .set_properties(**{'max-width': '120px', 'font-size': '10pt'}) \\\n",
    "    .set_caption(\"Hover to magify\") \\\n",
    "    .set_table_styles(magnify())\n",
    "\n",
    "\n",
    "\n",
    "\n",
    "#sns.heatmap(corr)"
   ],
   "metadata": {
    "collapsed": false,
    "ExecuteTime": {
     "end_time": "2024-05-03T18:45:09.065829Z",
     "start_time": "2024-05-03T18:45:08.762028Z"
    }
   },
   "id": "947f06411adeaad8",
   "execution_count": 4
  },
  {
   "cell_type": "markdown",
   "source": [
    "# Corelații\n",
    "\n",
    "În imaginea prezentă în continuare se observă axele de recoltare a datelor.\n",
    "Această imagine este utilă în înțelegerea corelațiilor explicate mai jos.\n",
    "    \n",
    "   \n",
    "\n",
    "\n"
   ],
   "metadata": {
    "collapsed": false
   },
   "id": "cb66923503540f55"
  },
  {
   "cell_type": "markdown",
   "source": [
    " ![Imagine Axe Accelerometru](https://docs-assets.developer.apple.com/published/96e9d46b41/c9b606b2-9a52-487e-8385-e710ffa1ce5f.png)\n",
    "\n",
    "\n",
    "\n",
    "Din imagine se poate explica de ce există o corelație mare între \"wrist\" și direcțiile de accelerare pe X și Y.\n",
    "Telefonul a fost rotit pe încheietură astfel încât datele colectate de pe mâna stângă sunt tind să fie pozitive iar cele colectate de pe mâna sângă tind să fie negative. Trebuie menționat că nu este important semnul datelor, ci modulul diferenței lor față de 0.\n",
    "\"Acceleration_y\" și \"activity\" prezintă o corelație ridicată, implicându-se creșterea accelerației atunci când \"activity\" este 1 ( 1 indicând alergat )\n",
    "Din rotația telefonului pe încheietură cât și din încheietura pe care a fost ținută se explică și corelațiile între accelerațiile prezente în tabel. (\"acceleration_x\" cu \"acceleartion_z\"\n",
    "Se observă că datele giroscopice nu au corelația ridicată în legătura cu restul datelor."
   ],
   "metadata": {
    "collapsed": false
   },
   "id": "b3bb6692d3bef9a"
  },
  {
   "cell_type": "markdown",
   "source": [
    "# Calcularea entropiei"
   ],
   "metadata": {
    "collapsed": false
   },
   "id": "7c69edcf7125b956"
  },
  {
   "cell_type": "markdown",
   "source": [],
   "metadata": {
    "collapsed": false
   },
   "id": "b547fdee7e9e8c1b"
  },
  {
   "cell_type": "code",
   "outputs": [
    {
     "name": "stdout",
     "output_type": "stream",
     "text": [
      "11.391751687239736\n",
      "9.936410209489402\n",
      "9.796824629905597\n",
      "9.347039399713736\n"
     ]
    }
   ],
   "source": [
    "def entropy1(labels, base=None):\n",
    "    value,counts = np.unique(labels, return_counts=True)\n",
    "    return en(counts, base=base)\n",
    "\n",
    "def entropy2(labels, base=None):\n",
    "    \"\"\" Computes entropy of label distribution. \"\"\"\n",
    "\n",
    "    n_labels = len(labels)\n",
    "\n",
    "    if n_labels <= 1:\n",
    "        return 0\n",
    "\n",
    "    value,counts = np.unique(labels, return_counts=True)\n",
    "    probs = counts / n_labels\n",
    "    n_classes = np.count_nonzero(probs)\n",
    "\n",
    "    if n_classes <= 1:\n",
    "        return 0\n",
    "\n",
    "    ent = 0.\n",
    "\n",
    "    # Compute entropy\n",
    "    base = e if base is None else base\n",
    "    for i in probs:\n",
    "        ent -= i * log(i, base)\n",
    "\n",
    "    return ent\n",
    "\n",
    "\n",
    "\n",
    "def entropy3(attributes, dataset, targetAttr):\n",
    "    freq = {}\n",
    "    entropy = 0.0\n",
    "    index = 0\n",
    "    for item in attributes:\n",
    "        if (targetAttr == item):\n",
    "            break\n",
    "        else:\n",
    "            index = index + 1\n",
    "    index = index - 1\n",
    "    for item in dataset:\n",
    "        if ((item[index]) in freq):\n",
    "            # Increase the index\n",
    "            freq[item[index]] += 1.0\n",
    "        else:\n",
    "            # Initialize it by setting it to 0\n",
    "            freq[item[index]] = 1.0\n",
    "\n",
    "    for freq in freq.values():\n",
    "        entropy = entropy + (-freq / len(dataset)) * log(freq / len(dataset), 2)\n",
    "    return entropy\n",
    "\n",
    "max_entropy=np.log(df['acceleration_x'].count())\n",
    "\n",
    "\n",
    "print(max_entropy)\n",
    "print(entropy2(df['acceleration_x']))\n",
    "print(entropy2(df['acceleration_y']))\n",
    "print(entropy2(df['acceleration_z']))\n",
    "\n",
    "\n"
   ],
   "metadata": {
    "collapsed": false,
    "ExecuteTime": {
     "end_time": "2024-05-03T18:46:17.479902Z",
     "start_time": "2024-05-03T18:46:17.427726Z"
    }
   },
   "id": "d1c4ff97cf66fe0c",
   "execution_count": 7
  },
  {
   "cell_type": "markdown",
   "source": [
    "Entropia maximă a unui set de valori poate fi calculată prin formula log(lugnime_set).\n",
    "Au fost preluate diferite formule de calculare a entropiei din mediul online, însă după testare funcția \"entropy2\" a prezentat cele mai consistente rezultate.\n",
    "Din valorile obținute se observă că datele prezente în această bază de date sunt bine împrăștiate, ceea ce va oferi algortmilor o varietate de cazuri și va antrena algorimtul în a generaliza, reducând riscul de supraînvățare."
   ],
   "metadata": {
    "collapsed": false
   },
   "id": "6ce7cd3d789f7346"
  },
  {
   "cell_type": "markdown",
   "source": [
    "cum comparam algoritmii\n",
    "xgboost -\n",
    "random forest -\n",
    "decision  trees -"
   ],
   "metadata": {
    "collapsed": false
   },
   "id": "12c5ea3587380600"
  }
 ],
 "metadata": {
  "kernelspec": {
   "display_name": "Python 3",
   "language": "python",
   "name": "python3"
  },
  "language_info": {
   "codemirror_mode": {
    "name": "ipython",
    "version": 2
   },
   "file_extension": ".py",
   "mimetype": "text/x-python",
   "name": "python",
   "nbconvert_exporter": "python",
   "pygments_lexer": "ipython2",
   "version": "2.7.6"
  }
 },
 "nbformat": 4,
 "nbformat_minor": 5
}
