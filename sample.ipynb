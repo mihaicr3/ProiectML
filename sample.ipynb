{
 "cells": [
  {
   "cell_type": "code",
   "outputs": [],
   "source": [
    "import pandas as pd"
   ],
   "metadata": {
    "collapsed": false,
    "ExecuteTime": {
     "end_time": "2024-03-29T19:46:07.877916Z",
     "start_time": "2024-03-29T19:46:07.866838Z"
    }
   },
   "id": "d44109955a9b036b",
   "execution_count": 11
  },
  {
   "cell_type": "markdown",
   "source": [
    "\n",
    "# Date inainte de prelucrare"
   ],
   "metadata": {
    "collapsed": false
   },
   "id": "ca27d205f7070e00"
  },
  {
   "cell_type": "code",
   "outputs": [
    {
     "data": {
      "text/plain": "            date                time username  wrist  activity  \\\n0      2017-6-30  13:51:15:847724020   viktor      0         0   \n1      2017-6-30  13:51:16:246945023   viktor      0         0   \n2      2017-6-30  13:51:16:446233987   viktor      0         0   \n3      2017-6-30  13:51:16:646117985   viktor      0         0   \n4      2017-6-30  13:51:16:846738994   viktor      0         0   \n...          ...                 ...      ...    ...       ...   \n88583   2017-7-9   20:9:15:317911028   viktor      0         0   \n88584   2017-7-9   20:9:15:517889022   viktor      0         0   \n88585   2017-7-9   20:9:15:717828989   viktor      0         0   \n88586   2017-7-9   20:9:15:917932987   viktor      0         0   \n88587   2017-7-9   20:9:16:117410004   viktor      0         0   \n\n       acceleration_x  acceleration_y  acceleration_z  gyro_x  gyro_y  gyro_z  \n0              0.2650         -0.7814         -0.0076 -0.0590  0.0325 -2.9296  \n1              0.6722         -1.1233         -0.2344 -0.1757  0.0208  0.1269  \n2              0.4399         -1.4817          0.0722 -0.9105  0.1063 -2.4367  \n3              0.3031         -0.8125          0.0888  0.1199 -0.4099 -2.9336  \n4              0.4814         -0.9312          0.0359  0.0527  0.4379  2.4922  \n...               ...             ...             ...     ...     ...     ...  \n88583          0.3084         -0.8376         -0.1327  0.4823  2.0124  0.6048  \n88584          0.4977         -1.0027         -0.4397  0.1022 -1.2565 -0.0761  \n88585          0.4587         -1.1780         -0.2827 -1.4500 -0.2792 -1.2616  \n88586          0.2590         -0.8582         -0.0759 -1.5165  0.4560 -1.7755  \n88587          0.3140         -0.8008         -0.0911  0.1183  1.0850  1.2814  \n\n[88588 rows x 11 columns]",
      "text/html": "<div>\n<style scoped>\n    .dataframe tbody tr th:only-of-type {\n        vertical-align: middle;\n    }\n\n    .dataframe tbody tr th {\n        vertical-align: top;\n    }\n\n    .dataframe thead th {\n        text-align: right;\n    }\n</style>\n<table border=\"1\" class=\"dataframe\">\n  <thead>\n    <tr style=\"text-align: right;\">\n      <th></th>\n      <th>date</th>\n      <th>time</th>\n      <th>username</th>\n      <th>wrist</th>\n      <th>activity</th>\n      <th>acceleration_x</th>\n      <th>acceleration_y</th>\n      <th>acceleration_z</th>\n      <th>gyro_x</th>\n      <th>gyro_y</th>\n      <th>gyro_z</th>\n    </tr>\n  </thead>\n  <tbody>\n    <tr>\n      <th>0</th>\n      <td>2017-6-30</td>\n      <td>13:51:15:847724020</td>\n      <td>viktor</td>\n      <td>0</td>\n      <td>0</td>\n      <td>0.2650</td>\n      <td>-0.7814</td>\n      <td>-0.0076</td>\n      <td>-0.0590</td>\n      <td>0.0325</td>\n      <td>-2.9296</td>\n    </tr>\n    <tr>\n      <th>1</th>\n      <td>2017-6-30</td>\n      <td>13:51:16:246945023</td>\n      <td>viktor</td>\n      <td>0</td>\n      <td>0</td>\n      <td>0.6722</td>\n      <td>-1.1233</td>\n      <td>-0.2344</td>\n      <td>-0.1757</td>\n      <td>0.0208</td>\n      <td>0.1269</td>\n    </tr>\n    <tr>\n      <th>2</th>\n      <td>2017-6-30</td>\n      <td>13:51:16:446233987</td>\n      <td>viktor</td>\n      <td>0</td>\n      <td>0</td>\n      <td>0.4399</td>\n      <td>-1.4817</td>\n      <td>0.0722</td>\n      <td>-0.9105</td>\n      <td>0.1063</td>\n      <td>-2.4367</td>\n    </tr>\n    <tr>\n      <th>3</th>\n      <td>2017-6-30</td>\n      <td>13:51:16:646117985</td>\n      <td>viktor</td>\n      <td>0</td>\n      <td>0</td>\n      <td>0.3031</td>\n      <td>-0.8125</td>\n      <td>0.0888</td>\n      <td>0.1199</td>\n      <td>-0.4099</td>\n      <td>-2.9336</td>\n    </tr>\n    <tr>\n      <th>4</th>\n      <td>2017-6-30</td>\n      <td>13:51:16:846738994</td>\n      <td>viktor</td>\n      <td>0</td>\n      <td>0</td>\n      <td>0.4814</td>\n      <td>-0.9312</td>\n      <td>0.0359</td>\n      <td>0.0527</td>\n      <td>0.4379</td>\n      <td>2.4922</td>\n    </tr>\n    <tr>\n      <th>...</th>\n      <td>...</td>\n      <td>...</td>\n      <td>...</td>\n      <td>...</td>\n      <td>...</td>\n      <td>...</td>\n      <td>...</td>\n      <td>...</td>\n      <td>...</td>\n      <td>...</td>\n      <td>...</td>\n    </tr>\n    <tr>\n      <th>88583</th>\n      <td>2017-7-9</td>\n      <td>20:9:15:317911028</td>\n      <td>viktor</td>\n      <td>0</td>\n      <td>0</td>\n      <td>0.3084</td>\n      <td>-0.8376</td>\n      <td>-0.1327</td>\n      <td>0.4823</td>\n      <td>2.0124</td>\n      <td>0.6048</td>\n    </tr>\n    <tr>\n      <th>88584</th>\n      <td>2017-7-9</td>\n      <td>20:9:15:517889022</td>\n      <td>viktor</td>\n      <td>0</td>\n      <td>0</td>\n      <td>0.4977</td>\n      <td>-1.0027</td>\n      <td>-0.4397</td>\n      <td>0.1022</td>\n      <td>-1.2565</td>\n      <td>-0.0761</td>\n    </tr>\n    <tr>\n      <th>88585</th>\n      <td>2017-7-9</td>\n      <td>20:9:15:717828989</td>\n      <td>viktor</td>\n      <td>0</td>\n      <td>0</td>\n      <td>0.4587</td>\n      <td>-1.1780</td>\n      <td>-0.2827</td>\n      <td>-1.4500</td>\n      <td>-0.2792</td>\n      <td>-1.2616</td>\n    </tr>\n    <tr>\n      <th>88586</th>\n      <td>2017-7-9</td>\n      <td>20:9:15:917932987</td>\n      <td>viktor</td>\n      <td>0</td>\n      <td>0</td>\n      <td>0.2590</td>\n      <td>-0.8582</td>\n      <td>-0.0759</td>\n      <td>-1.5165</td>\n      <td>0.4560</td>\n      <td>-1.7755</td>\n    </tr>\n    <tr>\n      <th>88587</th>\n      <td>2017-7-9</td>\n      <td>20:9:16:117410004</td>\n      <td>viktor</td>\n      <td>0</td>\n      <td>0</td>\n      <td>0.3140</td>\n      <td>-0.8008</td>\n      <td>-0.0911</td>\n      <td>0.1183</td>\n      <td>1.0850</td>\n      <td>1.2814</td>\n    </tr>\n  </tbody>\n</table>\n<p>88588 rows × 11 columns</p>\n</div>"
     },
     "execution_count": 12,
     "metadata": {},
     "output_type": "execute_result"
    }
   ],
   "source": [
    "df= pd.read_csv(r\"C:\\Users\\student\\DataspellProjects\\Running\\datasetInitial.csv\")\n",
    "df"
   ],
   "metadata": {
    "collapsed": false,
    "ExecuteTime": {
     "end_time": "2024-03-29T19:46:08.138263Z",
     "start_time": "2024-03-29T19:46:07.879913Z"
    }
   },
   "id": "b7ea6d831b74a4c6",
   "execution_count": 12
  },
  {
   "cell_type": "markdown",
   "source": [
    "# Date dupa prelucrare initiala\n",
    "Au fost scoase coloanele inutile precum username si time"
   ],
   "metadata": {
    "collapsed": false
   },
   "id": "cb66923503540f55"
  },
  {
   "cell_type": "code",
   "outputs": [
    {
     "data": {
      "text/plain": "            date  wrist  activity  acceleration_x  acceleration_y  \\\n0      2017-6-30      0         0          0.2650         -0.7814   \n1      2017-6-30      0         0          0.6722         -1.1233   \n2      2017-6-30      0         0          0.4399         -1.4817   \n3      2017-6-30      0         0          0.3031         -0.8125   \n4      2017-6-30      0         0          0.4814         -0.9312   \n...          ...    ...       ...             ...             ...   \n88583   2017-7-9      0         0          0.3084         -0.8376   \n88584   2017-7-9      0         0          0.4977         -1.0027   \n88585   2017-7-9      0         0          0.4587         -1.1780   \n88586   2017-7-9      0         0          0.2590         -0.8582   \n88587   2017-7-9      0         0          0.3140         -0.8008   \n\n       acceleration_z  gyro_x  gyro_y  gyro_z  \n0             -0.0076 -0.0590  0.0325 -2.9296  \n1             -0.2344 -0.1757  0.0208  0.1269  \n2              0.0722 -0.9105  0.1063 -2.4367  \n3              0.0888  0.1199 -0.4099 -2.9336  \n4              0.0359  0.0527  0.4379  2.4922  \n...               ...     ...     ...     ...  \n88583         -0.1327  0.4823  2.0124  0.6048  \n88584         -0.4397  0.1022 -1.2565 -0.0761  \n88585         -0.2827 -1.4500 -0.2792 -1.2616  \n88586         -0.0759 -1.5165  0.4560 -1.7755  \n88587         -0.0911  0.1183  1.0850  1.2814  \n\n[88588 rows x 9 columns]",
      "text/html": "<div>\n<style scoped>\n    .dataframe tbody tr th:only-of-type {\n        vertical-align: middle;\n    }\n\n    .dataframe tbody tr th {\n        vertical-align: top;\n    }\n\n    .dataframe thead th {\n        text-align: right;\n    }\n</style>\n<table border=\"1\" class=\"dataframe\">\n  <thead>\n    <tr style=\"text-align: right;\">\n      <th></th>\n      <th>date</th>\n      <th>wrist</th>\n      <th>activity</th>\n      <th>acceleration_x</th>\n      <th>acceleration_y</th>\n      <th>acceleration_z</th>\n      <th>gyro_x</th>\n      <th>gyro_y</th>\n      <th>gyro_z</th>\n    </tr>\n  </thead>\n  <tbody>\n    <tr>\n      <th>0</th>\n      <td>2017-6-30</td>\n      <td>0</td>\n      <td>0</td>\n      <td>0.2650</td>\n      <td>-0.7814</td>\n      <td>-0.0076</td>\n      <td>-0.0590</td>\n      <td>0.0325</td>\n      <td>-2.9296</td>\n    </tr>\n    <tr>\n      <th>1</th>\n      <td>2017-6-30</td>\n      <td>0</td>\n      <td>0</td>\n      <td>0.6722</td>\n      <td>-1.1233</td>\n      <td>-0.2344</td>\n      <td>-0.1757</td>\n      <td>0.0208</td>\n      <td>0.1269</td>\n    </tr>\n    <tr>\n      <th>2</th>\n      <td>2017-6-30</td>\n      <td>0</td>\n      <td>0</td>\n      <td>0.4399</td>\n      <td>-1.4817</td>\n      <td>0.0722</td>\n      <td>-0.9105</td>\n      <td>0.1063</td>\n      <td>-2.4367</td>\n    </tr>\n    <tr>\n      <th>3</th>\n      <td>2017-6-30</td>\n      <td>0</td>\n      <td>0</td>\n      <td>0.3031</td>\n      <td>-0.8125</td>\n      <td>0.0888</td>\n      <td>0.1199</td>\n      <td>-0.4099</td>\n      <td>-2.9336</td>\n    </tr>\n    <tr>\n      <th>4</th>\n      <td>2017-6-30</td>\n      <td>0</td>\n      <td>0</td>\n      <td>0.4814</td>\n      <td>-0.9312</td>\n      <td>0.0359</td>\n      <td>0.0527</td>\n      <td>0.4379</td>\n      <td>2.4922</td>\n    </tr>\n    <tr>\n      <th>...</th>\n      <td>...</td>\n      <td>...</td>\n      <td>...</td>\n      <td>...</td>\n      <td>...</td>\n      <td>...</td>\n      <td>...</td>\n      <td>...</td>\n      <td>...</td>\n    </tr>\n    <tr>\n      <th>88583</th>\n      <td>2017-7-9</td>\n      <td>0</td>\n      <td>0</td>\n      <td>0.3084</td>\n      <td>-0.8376</td>\n      <td>-0.1327</td>\n      <td>0.4823</td>\n      <td>2.0124</td>\n      <td>0.6048</td>\n    </tr>\n    <tr>\n      <th>88584</th>\n      <td>2017-7-9</td>\n      <td>0</td>\n      <td>0</td>\n      <td>0.4977</td>\n      <td>-1.0027</td>\n      <td>-0.4397</td>\n      <td>0.1022</td>\n      <td>-1.2565</td>\n      <td>-0.0761</td>\n    </tr>\n    <tr>\n      <th>88585</th>\n      <td>2017-7-9</td>\n      <td>0</td>\n      <td>0</td>\n      <td>0.4587</td>\n      <td>-1.1780</td>\n      <td>-0.2827</td>\n      <td>-1.4500</td>\n      <td>-0.2792</td>\n      <td>-1.2616</td>\n    </tr>\n    <tr>\n      <th>88586</th>\n      <td>2017-7-9</td>\n      <td>0</td>\n      <td>0</td>\n      <td>0.2590</td>\n      <td>-0.8582</td>\n      <td>-0.0759</td>\n      <td>-1.5165</td>\n      <td>0.4560</td>\n      <td>-1.7755</td>\n    </tr>\n    <tr>\n      <th>88587</th>\n      <td>2017-7-9</td>\n      <td>0</td>\n      <td>0</td>\n      <td>0.3140</td>\n      <td>-0.8008</td>\n      <td>-0.0911</td>\n      <td>0.1183</td>\n      <td>1.0850</td>\n      <td>1.2814</td>\n    </tr>\n  </tbody>\n</table>\n<p>88588 rows × 9 columns</p>\n</div>"
     },
     "execution_count": 13,
     "metadata": {},
     "output_type": "execute_result"
    }
   ],
   "source": [
    "df= df.drop(columns=\"username\")\n",
    "df= df.drop(columns=\"time\")\n",
    "df"
   ],
   "metadata": {
    "collapsed": false,
    "ExecuteTime": {
     "end_time": "2024-03-29T19:46:08.184073Z",
     "start_time": "2024-03-29T19:46:08.138729Z"
    }
   },
   "id": "6b40d8f1e849ea3d",
   "execution_count": 13
  },
  {
   "cell_type": "code",
   "outputs": [],
   "source": [],
   "metadata": {
    "collapsed": false,
    "ExecuteTime": {
     "end_time": "2024-03-29T19:46:08.191356Z",
     "start_time": "2024-03-29T19:46:08.188807Z"
    }
   },
   "id": "6d34546eab46b5cd",
   "execution_count": 13
  }
 ],
 "metadata": {
  "kernelspec": {
   "display_name": "Python 3",
   "language": "python",
   "name": "python3"
  },
  "language_info": {
   "codemirror_mode": {
    "name": "ipython",
    "version": 2
   },
   "file_extension": ".py",
   "mimetype": "text/x-python",
   "name": "python",
   "nbconvert_exporter": "python",
   "pygments_lexer": "ipython2",
   "version": "2.7.6"
  }
 },
 "nbformat": 4,
 "nbformat_minor": 5
}
